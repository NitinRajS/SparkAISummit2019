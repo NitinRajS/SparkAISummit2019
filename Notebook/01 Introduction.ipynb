{
 "cells": [
  {
   "cell_type": "markdown",
   "metadata": {},
   "source": [
    "##Delta Lake Introduction\n",
    "\n",
    "Databricks&reg; Delta is a transactional storage layer designed specifically to harness the power of Apache Spark and Databricks DBFS. The core abstraction of Databricks Delta is an optimized Spark table that stores your data as Parquet files in DBFS and maintains a transaction log that efficiently tracks changes to the table."
   ]
  },
  {
   "cell_type": "markdown",
   "metadata": {},
   "source": [
    "To extract meaningful information out of a Data Lake, we need to resolve problems like:\n",
    "* Schema enforcement when new tables are introduced \n",
    "* Table repairs when any new data is inserted into the data lake\n",
    "* Frequent refreshes of metadata \n",
    "* Bottlenecks of small file sizes for distributed computations\n",
    "* Difficulty re-sorting data by an index (i.e. userID) if data is spread across many files and partitioned by i.e. eventTime"
   ]
  },
  {
   "cell_type": "markdown",
   "metadata": {},
   "source": [
    "###The Solution: Databricks Delta\n",
    "\n",
    "Databricks Delta is a Spark table with built-in reliability and performance optimizations.\n",
    "\n",
    "You can read and write data stored in Databricks Delta using the same familiar Apache Spark SQL batch and streaming APIs you use to work with Hive tables or DBFS directories. Databricks Delta provides the following functionality:\n",
    "\n",
    "* <b>ACID transactions</b> - Multiple writers can simultaneously modify a data set and see consistent views.\n",
    "* <b>DELETES/UPDATES/UPSERTS</b> - Writers can modify a data set without interfering with jobs reading the data set.\n",
    "* <b>Automatic file management</b> - Data access speeds up by organizing data into large files that can be read efficiently.\n",
    "* <b>Statistics and data skipping</b> - Reads are 10-100x faster when statistics are tracked about the data in each file, allowing Delta to avoid reading irrelevant information."
   ]
  },
  {
   "cell_type": "markdown",
   "metadata": {},
   "source": [
    "-sandbox\n",
    "#Getting started\n",
    "\n",
    "Create a table called `customer_delta` we just have to add `DELTA`.\n",
    "\n",
    "The code looks like:\n",
    "> `CREATE TABLE <table-name>` <br>\n",
    "  `USING DELTA` <br>\n",
    "  `LOCATION <path-do-data> ` <br>"
   ]
  },
  {
   "cell_type": "code",
   "execution_count": 5,
   "metadata": {},
   "outputs": [],
   "source": [
    "%run ./Reference/Setup"
   ]
  },
  {
   "cell_type": "code",
   "execution_count": 6,
   "metadata": {},
   "outputs": [
    {
     "data": {
      "text/html": [
       "<style scoped>\n",
       "  .ansiout {\n",
       "    display: block;\n",
       "    unicode-bidi: embed;\n",
       "    white-space: pre-wrap;\n",
       "    word-wrap: break-word;\n",
       "    word-break: break-all;\n",
       "    font-family: \"Source Code Pro\", \"Menlo\", monospace;;\n",
       "    font-size: 13px;\n",
       "    color: #555;\n",
       "    margin-left: 4px;\n",
       "    line-height: 19px;\n",
       "  }\n",
       "</style>\n",
       "<div class=\"ansiout\">dbfs:/Delta lake Demo/Content\n",
       "</div>"
      ]
     },
     "metadata": {},
     "output_type": "display_data"
    }
   ],
   "source": [
    "%python\n",
    "homePath = \"dbfs:/Delta lake Demo/Content\"\n",
    "print(homePath)"
   ]
  },
  {
   "cell_type": "code",
   "execution_count": 7,
   "metadata": {},
   "outputs": [
    {
     "data": {
      "text/html": [
       "<style scoped>\n",
       "  .ansiout {\n",
       "    display: block;\n",
       "    unicode-bidi: embed;\n",
       "    white-space: pre-wrap;\n",
       "    word-wrap: break-word;\n",
       "    word-break: break-all;\n",
       "    font-family: \"Source Code Pro\", \"Menlo\", monospace;;\n",
       "    font-size: 13px;\n",
       "    color: #555;\n",
       "    margin-left: 4px;\n",
       "    line-height: 19px;\n",
       "  }\n",
       "</style>\n",
       "<div class=\"ansiout\">dbfs:/user/nagaraj.sengodan@hotmail.com/generic/customer-data_01/\n",
       "</div>"
      ]
     },
     "metadata": {},
     "output_type": "display_data"
    }
   ],
   "source": [
    "inputPath = \"/mnt/training/online_retail/data-001/data.csv\"\n",
    "genericDataPath = userhome + \"/generic/customer-data_01/\"\n",
    "deltaDataPath = userhome + \"/delta/customer-data/\"\n",
    "backfillDataPath = userhome + \"/delta/backfill-data/\"\n",
    "\n",
    "print (genericDataPath)"
   ]
  },
  {
   "cell_type": "code",
   "execution_count": 8,
   "metadata": {},
   "outputs": [
    {
     "data": {
      "text/html": [
       "<style scoped>\n",
       "  .ansiout {\n",
       "    display: block;\n",
       "    unicode-bidi: embed;\n",
       "    white-space: pre-wrap;\n",
       "    word-wrap: break-word;\n",
       "    word-break: break-all;\n",
       "    font-family: \"Source Code Pro\", \"Menlo\", monospace;;\n",
       "    font-size: 13px;\n",
       "    color: #555;\n",
       "    margin-left: 4px;\n",
       "    line-height: 19px;\n",
       "  }\n",
       "</style>\n",
       "<div class=\"ansiout\"></div>"
      ]
     },
     "metadata": {},
     "output_type": "display_data"
    }
   ],
   "source": [
    "from pyspark.sql.types import StructType, StructField, DoubleType, IntegerType, StringType\n",
    "from pyspark.sql.functions import col\n",
    "\n",
    "inputSchema = StructType([\n",
    "  StructField(\"InvoiceNo\", IntegerType(), True),\n",
    "  StructField(\"StockCode\", StringType(), True),\n",
    "  StructField(\"Description\", StringType(), True),\n",
    "  StructField(\"Quantity\", IntegerType(), True),\n",
    "  StructField(\"InvoiceDate\", StringType(), True),\n",
    "  StructField(\"UnitPrice\", DoubleType(), True),\n",
    "  StructField(\"CustomerID\", IntegerType(), True),\n",
    "  StructField(\"Country\", StringType(), True)\n",
    "])\n",
    "\n",
    "rawDataDF = (spark.read \n",
    "  .option(\"header\", \"true\")\n",
    "  .schema(inputSchema)\n",
    "  .csv(inputPath) \n",
    ")\n",
    "\n",
    "# Previous way of writting files\n",
    "rawDataDF.write.mode(\"overwrite\").format(\"parquet\").partitionBy(\"Country\").save(genericDataPath)\n",
    "\n",
    "# write to delta dataset\n",
    "rawDataDF.write.mode(\"overwrite\").format(\"delta\").partitionBy(\"Country\").save(deltaDataPath)"
   ]
  },
  {
   "cell_type": "code",
   "execution_count": 9,
   "metadata": {},
   "outputs": [
    {
     "data": {
      "text/html": [
       "<style scoped>\n",
       "  .ansiout {\n",
       "    display: block;\n",
       "    unicode-bidi: embed;\n",
       "    white-space: pre-wrap;\n",
       "    word-wrap: break-word;\n",
       "    word-break: break-all;\n",
       "    font-family: \"Source Code Pro\", \"Menlo\", monospace;;\n",
       "    font-size: 13px;\n",
       "    color: #555;\n",
       "    margin-left: 4px;\n",
       "    line-height: 19px;\n",
       "  }\n",
       "</style>\n",
       "<div class=\"ansiout\"><span class=\"ansired\">Out[</span><span class=\"ansired\">28</span><span class=\"ansired\">]: </span>[Row(InvoiceNo=536365, StockCode=&apos;85123A&apos;, Description=&apos;WHITE HANGING HEART T-LIGHT HOLDER&apos;, Quantity=6, InvoiceDate=&apos;12/1/10 8:26&apos;, UnitPrice=2.55, CustomerID=17850, Country=&apos;United Kingdom&apos;),\n",
       " Row(InvoiceNo=536365, StockCode=&apos;71053&apos;, Description=&apos;WHITE METAL LANTERN&apos;, Quantity=6, InvoiceDate=&apos;12/1/10 8:26&apos;, UnitPrice=3.39, CustomerID=17850, Country=&apos;United Kingdom&apos;)]</div>"
      ]
     },
     "metadata": {},
     "output_type": "display_data"
    }
   ],
   "source": [
    "rawDataDF.take(2)"
   ]
  },
  {
   "cell_type": "code",
   "execution_count": 10,
   "metadata": {},
   "outputs": [
    {
     "data": {
      "text/html": [
       "<style scoped>\n",
       "  .ansiout {\n",
       "    display: block;\n",
       "    unicode-bidi: embed;\n",
       "    white-space: pre-wrap;\n",
       "    word-wrap: break-word;\n",
       "    word-break: break-all;\n",
       "    font-family: \"Source Code Pro\", \"Menlo\", monospace;;\n",
       "    font-size: 13px;\n",
       "    color: #555;\n",
       "    margin-left: 4px;\n",
       "    line-height: 19px;\n",
       "  }\n",
       "</style>\n",
       "<div class=\"ansiout\"><span class=\"ansired\">Out[</span><span class=\"ansired\">64</span><span class=\"ansired\">]: </span>DataFrame[]</div>"
      ]
     },
     "metadata": {},
     "output_type": "display_data"
    }
   ],
   "source": [
    "%python\n",
    "filePath = homePath + \"/delta/customer-data/\"\n",
    "#filePath = \"dbfs:/FileStore/tables/\"\n",
    "\n",
    "spark.sql(\"\"\"\n",
    "  DROP TABLE IF EXISTS customer_delta\n",
    "\"\"\")\n",
    "spark.sql(\"\"\"\n",
    "  CREATE TABLE customer_delta \n",
    "  USING DELTA \n",
    "  LOCATION '{}' \n",
    "\"\"\".format(deltaDataPath))"
   ]
  },
  {
   "cell_type": "code",
   "execution_count": 11,
   "metadata": {},
   "outputs": [
    {
     "data": {
      "text/html": [
       "<style scoped>\n",
       "  .table-result-container {\n",
       "    max-height: 300px;\n",
       "    overflow: auto;\n",
       "  }\n",
       "  table, th, td {\n",
       "    border: 1px solid black;\n",
       "    border-collapse: collapse;\n",
       "  }\n",
       "  th, td {\n",
       "    padding: 5px;\n",
       "  }\n",
       "  th {\n",
       "    text-align: left;\n",
       "  }\n",
       "</style><div class='table-result-container'><table class='table-result'><thead style='background-color: white'><tr><th>count(1)</th></tr></thead><tbody><tr><td>65499</td></tr></tbody></table></div>"
      ]
     },
     "metadata": {},
     "output_type": "display_data"
    }
   ],
   "source": [
    "  %sql\n",
    "SELECT count(*) FROM customer_data_delta"
   ]
  },
  {
   "cell_type": "markdown",
   "metadata": {},
   "source": [
    "#### Metadata\n",
    "\n",
    "Since we already have data backing `customer_data_delta` in place, \n",
    "the table in the Hive metastore automatically inherits the schema, partitioning, \n",
    "and table properties of the existing data. \n",
    "\n",
    "Note that we only store table name, path, database info in the Hive metastore,\n",
    "the actual schema is stored in `_delta_logs`."
   ]
  },
  {
   "cell_type": "code",
   "execution_count": 13,
   "metadata": {},
   "outputs": [
    {
     "data": {
      "text/html": [
       "<style scoped>\n",
       "  .table-result-container {\n",
       "    max-height: 300px;\n",
       "    overflow: auto;\n",
       "  }\n",
       "  table, th, td {\n",
       "    border: 1px solid black;\n",
       "    border-collapse: collapse;\n",
       "  }\n",
       "  th, td {\n",
       "    padding: 5px;\n",
       "  }\n",
       "  th {\n",
       "    text-align: left;\n",
       "  }\n",
       "</style><div class='table-result-container'><table class='table-result'><thead style='background-color: white'><tr><th>format</th><th>id</th><th>name</th><th>description</th><th>location</th><th>createdAt</th><th>lastModified</th><th>partitionColumns</th><th>numFiles</th><th>sizeInBytes</th><th>properties</th><th>minReaderVersion</th><th>minWriterVersion</th></tr></thead><tbody><tr><td>delta</td><td>1b7d5d8e-c87b-47d5-9a19-fcd0c440e21d</td><td>nagaraj_sengodan_hotmail_com_db.customer_data_delta</td><td>null</td><td>dbfs:/user/nagaraj.sengodan@hotmail.com/delta/customer-data</td><td>2019-10-16T12:18:23.338+0000</td><td>2019-10-16T14:44:26.000+0000</td><td>List(Country)</td><td>39</td><td>621086</td><td>Map()</td><td>1</td><td>2</td></tr></tbody></table></div>"
      ]
     },
     "metadata": {},
     "output_type": "display_data"
    }
   ],
   "source": [
    "%sql\n",
    "DESCRIBE DETAIL customer_data_delta"
   ]
  },
  {
   "cell_type": "code",
   "execution_count": 14,
   "metadata": {},
   "outputs": [
    {
     "data": {
      "text/html": [
       "<style scoped>\n",
       "  .table-result-container {\n",
       "    max-height: 300px;\n",
       "    overflow: auto;\n",
       "  }\n",
       "  table, th, td {\n",
       "    border: 1px solid black;\n",
       "    border-collapse: collapse;\n",
       "  }\n",
       "  th, td {\n",
       "    padding: 5px;\n",
       "  }\n",
       "  th {\n",
       "    text-align: left;\n",
       "  }\n",
       "</style><div class='table-result-container'><table class='table-result'><thead style='background-color: white'><tr><th>InvoiceNo</th><th>StockCode</th><th>Description</th><th>Quantity</th><th>InvoiceDate</th><th>UnitPrice</th><th>CustomerID</th><th>Country</th></tr></thead><tbody><tr><td>541267</td><td>22063</td><td>CERAMIC BOWL WITH STRAWBERRY DESIGN</td><td>6</td><td>1/17/11 10:37</td><td>2.95</td><td>12779</td><td>Poland</td></tr><tr><td>541267</td><td>22624</td><td>IVORY KITCHEN SCALES</td><td>2</td><td>1/17/11 10:37</td><td>8.5</td><td>12779</td><td>Poland</td></tr><tr><td>541267</td><td>22626</td><td>BLACK KITCHEN SCALES</td><td>2</td><td>1/17/11 10:37</td><td>8.5</td><td>12779</td><td>Poland</td></tr><tr><td>541267</td><td>22845</td><td>VINTAGE CREAM CAT FOOD CONTAINER</td><td>2</td><td>1/17/11 10:37</td><td>6.35</td><td>12779</td><td>Poland</td></tr><tr><td>541267</td><td>22178</td><td>VICTORIAN GLASS HANGING T-LIGHT</td><td>12</td><td>1/17/11 10:37</td><td>1.25</td><td>12779</td><td>Poland</td></tr><tr><td>541267</td><td>37450</td><td>CERAMIC CAKE BOWL + HANGING CAKES</td><td>6</td><td>1/17/11 10:37</td><td>2.95</td><td>12779</td><td>Poland</td></tr><tr><td>541267</td><td>22510</td><td>GINGHAM BABUSHKA DOORSTOP</td><td>8</td><td>1/17/11 10:37</td><td>1.25</td><td>12779</td><td>Poland</td></tr><tr><td>541267</td><td>22195</td><td>LARGE HEART MEASURING SPOONS</td><td>12</td><td>1/17/11 10:37</td><td>1.65</td><td>12779</td><td>Poland</td></tr><tr><td>541267</td><td>22503</td><td>CABIN BAG VINTAGE PAISLEY</td><td>3</td><td>1/17/11 10:37</td><td>12.75</td><td>12779</td><td>Poland</td></tr><tr><td>541267</td><td>84917</td><td>WHITE HAND TOWEL WITH BUTTERFLY</td><td>20</td><td>1/17/11 10:37</td><td>1.25</td><td>12779</td><td>Poland</td></tr></tbody></table></div>"
      ]
     },
     "metadata": {},
     "output_type": "display_data"
    }
   ],
   "source": [
    "%sql\n",
    "select * from customer_data_delta limit 10"
   ]
  },
  {
   "cell_type": "code",
   "execution_count": 15,
   "metadata": {},
   "outputs": [],
   "source": []
  }
 ],
 "metadata": {
  "kernelspec": {
   "display_name": "Python 3",
   "language": "python",
   "name": "python3"
  },
  "language_info": {
   "codemirror_mode": {
    "name": "ipython",
    "version": 3
   },
   "file_extension": ".py",
   "mimetype": "text/x-python",
   "name": "python",
   "nbconvert_exporter": "python",
   "pygments_lexer": "ipython3",
   "version": "3.7.3"
  },
  "name": "01 Introduction",
  "notebookId": 448196258315540
 },
 "nbformat": 4,
 "nbformat_minor": 1
}
